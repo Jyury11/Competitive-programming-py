{
 "metadata": {
  "language_info": {
   "codemirror_mode": {
    "name": "ipython",
    "version": 3
   },
   "file_extension": ".py",
   "mimetype": "text/x-python",
   "name": "python",
   "nbconvert_exporter": "python",
   "pygments_lexer": "ipython3",
   "version": "3.8.5"
  },
  "orig_nbformat": 2,
  "kernelspec": {
   "name": "python385jvsc74a57bd098b0a9b7b4eaaa670588a142fd0a9b87eaafe866f1db4228be72b4211d12040f",
   "display_name": "Python 3.8.5 64-bit ('base': conda)"
  }
 },
 "nbformat": 4,
 "nbformat_minor": 2,
 "cells": [
  {
   "cell_type": "code",
   "execution_count": 9,
   "metadata": {},
   "outputs": [
    {
     "output_type": "stream",
     "name": "stdout",
     "text": [
      "hello world\n"
     ]
    }
   ],
   "source": [
    "print(\"hello world\")"
   ]
  },
  {
   "cell_type": "code",
   "execution_count": 65,
   "metadata": {},
   "outputs": [
    {
     "output_type": "execute_result",
     "data": {
      "text/plain": [
       "5.0"
      ]
     },
     "metadata": {},
     "execution_count": 65
    }
   ],
   "source": [
    "(34 - 2 * 7) / 4"
   ]
  },
  {
   "cell_type": "code",
   "execution_count": 104,
   "metadata": {},
   "outputs": [
    {
     "output_type": "error",
     "ename": "ValueError",
     "evalue": "invalid literal for int() with base 10: ''",
     "traceback": [
      "\u001b[0;31m---------------------------------------------------------------------------\u001b[0m",
      "\u001b[0;31mValueError\u001b[0m                                Traceback (most recent call last)",
      "\u001b[0;32m<ipython-input-104-ec6cb4337867>\u001b[0m in \u001b[0;36m<module>\u001b[0;34m\u001b[0m\n\u001b[1;32m     35\u001b[0m             \u001b[0mself\u001b[0m\u001b[0;34m.\u001b[0m\u001b[0mleft\u001b[0m\u001b[0;34m.\u001b[0m\u001b[0morder\u001b[0m\u001b[0;34m(\u001b[0m\u001b[0mlist\u001b[0m\u001b[0;34m)\u001b[0m\u001b[0;34m\u001b[0m\u001b[0;34m\u001b[0m\u001b[0m\n\u001b[1;32m     36\u001b[0m \u001b[0;34m\u001b[0m\u001b[0m\n\u001b[0;32m---> 37\u001b[0;31m \u001b[0margs\u001b[0m \u001b[0;34m=\u001b[0m \u001b[0mint\u001b[0m\u001b[0;34m(\u001b[0m\u001b[0minput\u001b[0m\u001b[0;34m(\u001b[0m\u001b[0;34m)\u001b[0m\u001b[0;34m)\u001b[0m\u001b[0;34m\u001b[0m\u001b[0;34m\u001b[0m\u001b[0m\n\u001b[0m\u001b[1;32m     38\u001b[0m \u001b[0mn\u001b[0m \u001b[0;34m=\u001b[0m \u001b[0mNode\u001b[0m\u001b[0;34m(\u001b[0m\u001b[0;32mNone\u001b[0m\u001b[0;34m)\u001b[0m\u001b[0;34m\u001b[0m\u001b[0;34m\u001b[0m\u001b[0m\n\u001b[1;32m     39\u001b[0m \u001b[0mcnt\u001b[0m \u001b[0;34m=\u001b[0m \u001b[0;36m0\u001b[0m\u001b[0;34m\u001b[0m\u001b[0;34m\u001b[0m\u001b[0m\n",
      "\u001b[0;31mValueError\u001b[0m: invalid literal for int() with base 10: ''"
     ]
    }
   ],
   "source": [
    "class Node:\n",
    "    my = None\n",
    "    left = None\n",
    "    right = None\n",
    "    \n",
    "    def __init__(self, num):\n",
    "        self.my = num\n",
    "        if num != None:\n",
    "            print(' ', end='')\n",
    "            print(num, end='')\n",
    "\n",
    "    def insert(self, num):\n",
    "        if self.my == None:\n",
    "            self.my = num\n",
    "            print(' ', end='')\n",
    "            print(num, end='')\n",
    "            return\n",
    "        if self.my > num:\n",
    "            if self.right == None:\n",
    "                self.right = Node(num)\n",
    "            else:\n",
    "                self.right.insert(num)\n",
    "        else:\n",
    "            if self.left == None:\n",
    "                self.left = Node(num)\n",
    "            else:\n",
    "                self.left.insert(num)\n",
    "\n",
    "    def order(self, list):\n",
    "        if self.my != None:\n",
    "            list.append(self.my)\n",
    "        if self.right != None:\n",
    "            self.right.order(list)\n",
    "        if self.left != None:\n",
    "            self.left.order(list)\n",
    "\n",
    "args = int(input())\n",
    "n = Node(None)\n",
    "cnt = 0\n",
    "for i in range(args):\n",
    "    cnt += 1\n",
    "    if cnt >= 500000:\n",
    "        break\n",
    "\n",
    "    arg = input().split()\n",
    "    if arg[0] == \"insert\":\n",
    "        n.insert(arg[1])\n",
    "    elif arg[0] == \"print\":\n",
    "        list = []\n",
    "        n.order(list)\n",
    "\n",
    "        print()\n",
    "        list.sort()\n",
    "        orderstr = [str(n) for n in list]\n",
    "        order = ' ' + ' '.join(orderstr)\n",
    "\n",
    "        print(order)                                                                                          \n",
    "        \n",
    "# n = Node(None)\n",
    "# l = ['insert 8','insert 2','insert 3','insert 7','insert 22','insert 1','insert 10','insert 9','insert 15','insert 13','print']\n",
    "# for i in l:\n",
    "#     arg = i.split()\n",
    "#     if arg[0] == \"insert\":\n",
    "#         n.insert(int(arg[1]))\n",
    "#     elif arg[0] == \"print\":\n",
    "#         list = []\n",
    "#         n.order(list)\n",
    "\n",
    "#         print()\n",
    "#         list.sort()\n",
    "#         orderstr = [str(n) for n in list]\n",
    "#         order = ' ' + ' '.join(orderstr)\n",
    "\n",
    "#         print(order)  \n"
   ]
  },
  {
   "cell_type": "code",
   "execution_count": 162,
   "metadata": {},
   "outputs": [
    {
     "output_type": "error",
     "ename": "TypeError",
     "evalue": "'list' object is not callable",
     "traceback": [
      "\u001b[0;31m---------------------------------------------------------------------------\u001b[0m",
      "\u001b[0;31mTypeError\u001b[0m                                 Traceback (most recent call last)",
      "\u001b[0;32m<ipython-input-162-19f50b01b49a>\u001b[0m in \u001b[0;36m<module>\u001b[0;34m\u001b[0m\n\u001b[1;32m     24\u001b[0m         \u001b[0mtime\u001b[0m \u001b[0;34m+=\u001b[0m \u001b[0;36m1\u001b[0m\u001b[0;34m\u001b[0m\u001b[0;34m\u001b[0m\u001b[0m\n\u001b[1;32m     25\u001b[0m \u001b[0;34m\u001b[0m\u001b[0m\n\u001b[0;32m---> 26\u001b[0;31m \u001b[0margs\u001b[0m \u001b[0;34m=\u001b[0m \u001b[0mint\u001b[0m\u001b[0;34m(\u001b[0m\u001b[0minput\u001b[0m\u001b[0;34m(\u001b[0m\u001b[0;34m)\u001b[0m\u001b[0;34m)\u001b[0m\u001b[0;34m\u001b[0m\u001b[0;34m\u001b[0m\u001b[0m\n\u001b[0m\u001b[1;32m     27\u001b[0m \u001b[0mnodes\u001b[0m \u001b[0;34m=\u001b[0m \u001b[0;34m[\u001b[0m\u001b[0;34m]\u001b[0m\u001b[0;34m\u001b[0m\u001b[0;34m\u001b[0m\u001b[0m\n\u001b[1;32m     28\u001b[0m \u001b[0;32mfor\u001b[0m \u001b[0mi\u001b[0m \u001b[0;32min\u001b[0m \u001b[0mrange\u001b[0m\u001b[0;34m(\u001b[0m\u001b[0margs\u001b[0m\u001b[0;34m)\u001b[0m\u001b[0;34m:\u001b[0m\u001b[0;34m\u001b[0m\u001b[0;34m\u001b[0m\u001b[0m\n",
      "\u001b[0;31mTypeError\u001b[0m: 'list' object is not callable"
     ]
    }
   ],
   "source": [
    "class Node:\n",
    "    my = None\n",
    "    nexts = []\n",
    "    first = 0\n",
    "    end = 0\n",
    "\n",
    "    def __init__(self, num):\n",
    "        self.my = num\n",
    "\n",
    "    def insert(self, next):\n",
    "        self.nexts.append(next)\n",
    "\n",
    "    def search(self, time, nodes):\n",
    "        self.first = time\n",
    "        time += 1\n",
    "\n",
    "        if self.first != 0:\n",
    "            for i in self.nexts:\n",
    "                for j in nodes:\n",
    "                    if j.my == i:\n",
    "                        j.search(time)\n",
    "                        break\n",
    "        self.end = time\n",
    "        time += 1\n",
    "\n",
    "args = int(input())\n",
    "nodes = []\n",
    "for i in range(args):\n",
    "    strl = input().split()\n",
    "    int_list = [int(intl) for intl in strl]\n",
    "    n = Node(int_list[0])\n",
    "    for j in range(int_list[1]):\n",
    "        n.insert(int_list[1 + j])\n",
    "    nodes.append(n)\n",
    "time = 1\n",
    "nodes[0].search(time, nodes)\n",
    "\n",
    "for i in nodes:\n",
    "    print(\"%d %d %d\" % (i.my, i.first, i.end))"
   ]
  }
 ]
}